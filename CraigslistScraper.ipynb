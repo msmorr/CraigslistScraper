{
 "cells": [
  {
   "cell_type": "markdown",
   "metadata": {},
   "source": [
    "# Cars/Trucks Scraper"
   ]
  },
  {
   "cell_type": "markdown",
   "metadata": {},
   "source": [
    "This tool scrapes car and truck postings from craigslist and returns a data frame that can be analyzed and visualized"
   ]
  },
  {
   "cell_type": "code",
   "execution_count": 73,
   "metadata": {},
   "outputs": [],
   "source": [
    "from time import sleep\n",
    "import re\n",
    "from random import randint #avoid throttling by not sending too many requests one after the other\n",
    "from warnings import warn\n",
    "from time import time\n",
    "from IPython.core.display import clear_output\n",
    "import numpy as np\n",
    "\n",
    "# define car and truck query function\n",
    "def CarsTrucksPrices(url, query_text = '', zip_code = '', search_distance = ''):\n",
    "    \"\"\"\n",
    "    Note: You can either paste the full request url or use the parameters\n",
    "    query_text = text that you want to search for. e.g. \"Subaru\"\n",
    "    zip_code = target zip code for query\n",
    "    search_distance = search radius in miles for the query e.g. 11.5\n",
    "    \"\"\"\n",
    "\n",
    "    \n",
    "    if zip_code is not None:\n",
    "        zip_code = 'postal=' + str(zip_code)\n",
    "        \n",
    "    if query_text is not None:\n",
    "        query_text = '&query=' + str(query_text)\n",
    "        query_text = query_text.replace(' ', '+')\n",
    "        \n",
    "    if search_distance is not None:\n",
    "        search_distance = '&search_distance=' + str(search_distance)\n",
    "        \n",
    "    if zip_code is None and query_text is None and search_distance is None:\n",
    "        full_url = url\n",
    "    else:\n",
    "        full_url = url + '?' + zip_code + search_distance + query_text\n",
    "        \n",
    "    print('passed url: ', full_url)\n",
    "        \n",
    "    from requests import get\n",
    "    response = requests.get(full_url)\n",
    "\n",
    "    from bs4 import BeautifulSoup\n",
    "    html_soup = bs4.BeautifulSoup(response.text, 'html.parser')            \n",
    "\n",
    "    # find total number of posts\n",
    "    results_num = html_soup.find('div', class_ = 'search-legend')\n",
    "    results_total = int(results_num.find('span', class_='totalcount').text) #pulled the total count of posts as the upper bound of the pages array\n",
    "\n",
    "    print('total results: ', results_total)\n",
    "\n",
    "    #each page has 119 posts so each new page is defined as follows: s=120, s=240, s=360, and so on. So we need to step in size 120 in the np.arange function\n",
    "    pages = np.arange(0, results_total+1, 120)\n",
    "    print('pages: ', len(pages))\n",
    "\n",
    "    post_titles = []\n",
    "    post_prices = []\n",
    "    post_links = []\n",
    "\n",
    "    for page in pages:\n",
    "\n",
    "        response = get(full_url + '&s=' + str(page))\n",
    "\n",
    "        sleep(randint(1,5))\n",
    "\n",
    "        #throw warning for status codes that are not 200\n",
    "        if response.status_code != 200:\n",
    "            warn('Request: {}; Status code: {}'.format(requests, response.status_code))\n",
    "\n",
    "        #define the html text\n",
    "        page_html = BeautifulSoup(response.text, 'html.parser')\n",
    "\n",
    "        #define the posts\n",
    "        posts = page_html.find_all('li', class_= 'result-row')\n",
    "\n",
    "        #extract data item-wise\n",
    "        for post in posts:\n",
    "\n",
    "            #extract elements from each post soup\n",
    "            title = post.find('a', class_='result-title hdrlnk')\n",
    "            title_text = title.text\n",
    "            price = int(post.find('span', class_= 'result-price').text.replace(\"$\",\"\").replace(\",\",\"\"))\n",
    "            link = title['href']\n",
    "\n",
    "            #append results to lists if price greater than zero\n",
    "            if price > 5:\n",
    "                post_titles.append(title_text)\n",
    "                post_prices.append(price)\n",
    "                post_links.append(link)\n",
    "\n",
    "    import pandas as pd\n",
    "\n",
    "    results_df = pd.DataFrame({'Title': post_titles,\n",
    "                      'Price': post_prices,\n",
    "                      'Link': post_links})\n",
    "\n",
    "    results_df = results_df.drop_duplicates(subset='Link')\n",
    "    \n",
    "    print(\"Scrape Successful!\")\n",
    "\n",
    "    return results_df"
   ]
  },
  {
   "cell_type": "code",
   "execution_count": 76,
   "metadata": {},
   "outputs": [
    {
     "name": "stdout",
     "output_type": "stream",
     "text": [
      "passed url:  https://charlottesville.craigslist.org/search/cta?postal=22903&search_distance=10&query=mazda\n",
      "total results:  7\n",
      "pages:  1\n",
      "Scrape Successful!\n"
     ]
    },
    {
     "data": {
      "text/html": [
       "<div>\n",
       "<style scoped>\n",
       "    .dataframe tbody tr th:only-of-type {\n",
       "        vertical-align: middle;\n",
       "    }\n",
       "\n",
       "    .dataframe tbody tr th {\n",
       "        vertical-align: top;\n",
       "    }\n",
       "\n",
       "    .dataframe thead th {\n",
       "        text-align: right;\n",
       "    }\n",
       "</style>\n",
       "<table border=\"1\" class=\"dataframe\">\n",
       "  <thead>\n",
       "    <tr style=\"text-align: right;\">\n",
       "      <th></th>\n",
       "      <th>Title</th>\n",
       "      <th>Price</th>\n",
       "      <th>Link</th>\n",
       "    </tr>\n",
       "  </thead>\n",
       "  <tbody>\n",
       "    <tr>\n",
       "      <td>0</td>\n",
       "      <td>2016 MAZDA MX5 Miata Club Convertible 2D Conve...</td>\n",
       "      <td>20990</td>\n",
       "      <td>https://charlottesville.craigslist.org/ctd/d/c...</td>\n",
       "    </tr>\n",
       "    <tr>\n",
       "      <td>1</td>\n",
       "      <td>2012 MAZDA MAZDA5 SPORT</td>\n",
       "      <td>4500</td>\n",
       "      <td>https://charlottesville.craigslist.org/ctd/d/c...</td>\n",
       "    </tr>\n",
       "    <tr>\n",
       "      <td>2</td>\n",
       "      <td>2019 MAZDA MX5 Miata Sport Convertible 2D Conv...</td>\n",
       "      <td>24990</td>\n",
       "      <td>https://charlottesville.craigslist.org/ctd/d/c...</td>\n",
       "    </tr>\n",
       "    <tr>\n",
       "      <td>3</td>\n",
       "      <td>2012 MAZDA MAZDA5 SPORT</td>\n",
       "      <td>4500</td>\n",
       "      <td>https://charlottesville.craigslist.org/ctd/d/c...</td>\n",
       "    </tr>\n",
       "    <tr>\n",
       "      <td>4</td>\n",
       "      <td>2012 MAZDA MAZDA5 SPORT</td>\n",
       "      <td>4500</td>\n",
       "      <td>https://charlottesville.craigslist.org/ctd/d/c...</td>\n",
       "    </tr>\n",
       "    <tr>\n",
       "      <td>5</td>\n",
       "      <td>2000 Dodge Dakota</td>\n",
       "      <td>1999</td>\n",
       "      <td>https://charlottesville.craigslist.org/ctd/d/c...</td>\n",
       "    </tr>\n",
       "    <tr>\n",
       "      <td>6</td>\n",
       "      <td>2012 Chrysler 200 new inspection reliable</td>\n",
       "      <td>3495</td>\n",
       "      <td>https://charlottesville.craigslist.org/cto/d/c...</td>\n",
       "    </tr>\n",
       "  </tbody>\n",
       "</table>\n",
       "</div>"
      ],
      "text/plain": [
       "                                               Title  Price  \\\n",
       "0  2016 MAZDA MX5 Miata Club Convertible 2D Conve...  20990   \n",
       "1                            2012 MAZDA MAZDA5 SPORT   4500   \n",
       "2  2019 MAZDA MX5 Miata Sport Convertible 2D Conv...  24990   \n",
       "3                            2012 MAZDA MAZDA5 SPORT   4500   \n",
       "4                            2012 MAZDA MAZDA5 SPORT   4500   \n",
       "5                                  2000 Dodge Dakota   1999   \n",
       "6          2012 Chrysler 200 new inspection reliable   3495   \n",
       "\n",
       "                                                Link  \n",
       "0  https://charlottesville.craigslist.org/ctd/d/c...  \n",
       "1  https://charlottesville.craigslist.org/ctd/d/c...  \n",
       "2  https://charlottesville.craigslist.org/ctd/d/c...  \n",
       "3  https://charlottesville.craigslist.org/ctd/d/c...  \n",
       "4  https://charlottesville.craigslist.org/ctd/d/c...  \n",
       "5  https://charlottesville.craigslist.org/ctd/d/c...  \n",
       "6  https://charlottesville.craigslist.org/cto/d/c...  "
      ]
     },
     "execution_count": 76,
     "metadata": {},
     "output_type": "execute_result"
    }
   ],
   "source": [
    "results = CarsTrucksPrices(url='https://charlottesville.craigslist.org/search/cta', query_text='mazda', zip_code='22903', search_distance='10')\n",
    "results"
   ]
  },
  {
   "cell_type": "code",
   "execution_count": 77,
   "metadata": {},
   "outputs": [
    {
     "data": {
      "text/plain": [
       "Text(0, 0.5, 'Count')"
      ]
     },
     "execution_count": 77,
     "metadata": {},
     "output_type": "execute_result"
    },
    {
     "data": {
      "image/png": "[encoded data removed]",
      "text/plain": [
       "<Figure size 1080x720 with 1 Axes>"
      ]
     },
     "metadata": {
      "needs_background": "light"
     },
     "output_type": "display_data"
    }
   ],
   "source": [
    "import matplotlib.pyplot as plt\n",
    "\n",
    "plt.figure(figsize=(15,10))\n",
    "plt.hist(results['Price'], bins=20)\n",
    "plt.xlabel('Price ($)')\n",
    "plt.ylabel('Count')"
   ]
  }
 ],
 "metadata": {
  "kernelspec": {
   "display_name": "myenv",
   "language": "python",
   "name": "myenv"
  },
  "language_info": {
   "codemirror_mode": {
    "name": "ipython",
    "version": 3
   },
   "file_extension": ".py",
   "mimetype": "text/x-python",
   "name": "python",
   "nbconvert_exporter": "python",
   "pygments_lexer": "ipython3",
   "version": "3.7.4"
  }
 },
 "nbformat": 4,
 "nbformat_minor": 2
}
