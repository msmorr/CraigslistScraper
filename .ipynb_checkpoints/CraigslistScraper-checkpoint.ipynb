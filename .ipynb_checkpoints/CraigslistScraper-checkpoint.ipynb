{
 "cells": [
  {
   "cell_type": "markdown",
   "metadata": {},
   "source": [
    "# Cars/Trucks Scraper"
   ]
  },
  {
   "cell_type": "code",
   "execution_count": 24,
   "metadata": {},
   "outputs": [
    {
     "name": "stdout",
     "output_type": "stream",
     "text": [
      "<class 'bs4.element.ResultSet'>\n",
      "120\n"
     ]
    }
   ],
   "source": [
    "# initial parameters\n",
    "zip_code = '22901' # specify zip code\n",
    "search_distance = '11.5' # specify search radius\n",
    "query = '' # specific search term to use\n",
    "url = 'https://charlottesville.craigslist.org/d/cars-trucks/search/cta?'\n",
    "\n",
    "from requests import get\n",
    "response = requests.get(url)\n",
    "\n",
    "from bs4 import BeautifulSoup\n",
    "html_soup = bs4.BeautifulSoup(response.text, 'html.parser')\n",
    "posts = html_soup.find_all('li', class_= 'result-row')\n",
    "print(type(posts)) # to check that I returned a result set\n",
    "print(len(posts)) # to check that I got 120 results per page"
   ]
  },
  {
   "cell_type": "code",
   "execution_count": 10,
   "metadata": {},
   "outputs": [
    {
     "data": {
      "text/plain": [
       "<li class=\"result-row\" data-pid=\"7263789397\" data-repost-of=\"7243419265\">\n",
       "<a class=\"result-image gallery\" data-ids=\"3:00000_65np12bfipU_0pO0jm,3:00b0b_24nakssTFnw_0pO0jm,3:00F0F_9NanihXTC0k_0pO0jm,3:00D0D_ek2Kv4rb99p_0jm0pO,3:00N0N_gXX8iDpofoC_0pO0jm,3:00606_49aFVpBMR5N_0pO0jm,3:01111_6BSfNASVGMm_0pO0jm,3:00U0U_9xTiNxmdW0a_0pO0jm,3:00s0s_34ejKC3mj5K_0pO0jm,3:00e0e_l5hvhBQv6Tl_0pO0jm,3:00d0d_eC3wETtpsSf_0pO0jm,3:01616_bge763Xv26R_0pO0jm,3:00000_65np12bfipU_0pO0jm,3:01515_1w7mwSzgVol_0pO0jm\" href=\"https://charlottesville.craigslist.org/ctd/d/charlottesville-2011-dodge-caravan/7263789397.html\">\n",
       "<span class=\"result-price\">$8,000</span>\n",
       "</a>\n",
       "<div class=\"result-info\">\n",
       "<span class=\"icon icon-star\" role=\"button\">\n",
       "<span class=\"screen-reader-text\">favorite this post</span>\n",
       "</span>\n",
       "<time class=\"result-date\" datetime=\"2021-01-18 06:00\" title=\"Mon 18 Jan 06:00:11 AM\">Jan 18</time>\n",
       "<h3 class=\"result-heading\">\n",
       "<a class=\"result-title hdrlnk\" data-id=\"7263789397\" href=\"https://charlottesville.craigslist.org/ctd/d/charlottesville-2011-dodge-caravan/7263789397.html\" id=\"postid_7263789397\">2011 dodge caravan wheelchair</a>\n",
       "</h3>\n",
       "<span class=\"result-meta\">\n",
       "<span class=\"result-price\">$8,000</span>\n",
       "<span class=\"result-tags\">\n",
       "<span class=\"pictag\">pic</span>\n",
       "<span class=\"maptag\">0mi</span>\n",
       "</span>\n",
       "<span class=\"banish icon icon-trash\" role=\"button\">\n",
       "<span class=\"screen-reader-text\">hide this posting</span>\n",
       "</span>\n",
       "<span aria-hidden=\"true\" class=\"unbanish icon icon-trash red\" role=\"button\"></span>\n",
       "<a class=\"restore-link\" href=\"#\">\n",
       "<span class=\"restore-narrow-text\">restore</span>\n",
       "<span class=\"restore-wide-text\">restore this posting</span>\n",
       "</a>\n",
       "</span>\n",
       "</div>\n",
       "</li>"
      ]
     },
     "execution_count": 10,
     "metadata": {},
     "output_type": "execute_result"
    }
   ],
   "source": [
    "posts[0]"
   ]
  },
  {
   "cell_type": "code",
   "execution_count": 22,
   "metadata": {},
   "outputs": [
    {
     "data": {
      "text/plain": [
       "8000"
      ]
     },
     "execution_count": 22,
     "metadata": {},
     "output_type": "execute_result"
    }
   ],
   "source": [
    "# pull out price\n",
    "post_one_price = int(posts[0].find('span', class_= 'result-price').text.replace(\"$\",\"\").replace(\",\",\"\"))\n",
    "post_one_price"
   ]
  },
  {
   "cell_type": "code",
   "execution_count": 30,
   "metadata": {},
   "outputs": [],
   "source": [
    "from time import sleep\n",
    "import re\n",
    "from random import randint #avoid throttling by not sending too many requests one after the other\n",
    "from warnings import warn\n",
    "from time import time\n",
    "from IPython.core.display import clear_output\n",
    "import numpy as np\n",
    "\n",
    "# find total number of posts\n",
    "results_num = html_soup.find('div', class_ = 'search-legend')\n",
    "results_total = int(results_num.find('span', class_='totalcount').text) #pulled the total count of posts as the upper bound of the pages array\n",
    "\n",
    "# results_total\n",
    "\n",
    "#each page has 119 posts so each new page is defined as follows: s=120, s=240, s=360, and so on. So we need to step in size 120 in the np.arange function\n",
    "pages = np.arange(0, results_total+1, 120)\n",
    "pages\n",
    "\n",
    "post_titles = []\n",
    "post_prices = []\n",
    "post_links = []\n",
    "\n",
    "for page in pages:\n",
    "    \n",
    "    response = get(url\n",
    "                + 'postal=' \n",
    "                + zip_code\n",
    "                + '&s='\n",
    "                + str(page)\n",
    "                + 'search_distance='\n",
    "                + search_distance)\n",
    "\n",
    "    sleep(randint(1,5))\n",
    "                   \n",
    "    #throw warning for status codes that are not 200\n",
    "    if response.status_code != 200:\n",
    "        warn('Request: {}; Status code: {}'.format(requests, response.status_code))\n",
    "                   \n",
    "    #define the html text\n",
    "    page_html = BeautifulSoup(response.text, 'html.parser')\n",
    "    \n",
    "    #define the posts\n",
    "    posts = html_soup.find_all('li', class_= 'result-row')\n",
    "        \n",
    "    #extract data item-wise\n",
    "    for post in posts:\n",
    "        \n",
    "        #extract elements from each post soup\n",
    "        title = post.find('a', class_='result-title hdrlnk')\n",
    "        title_text = title.text\n",
    "        price = int(post.find('span', class_= 'result-price').text.replace(\"$\",\"\").replace(\",\",\"\"))\n",
    "        link = title['href']\n",
    "        \n",
    "        #append results to lists if price greater than zero\n",
    "        if price > 0:\n",
    "            post_titles.append(title_text)\n",
    "            post_prices.append(price)\n",
    "            post_links.append(link)\n",
    "\n"
   ]
  },
  {
   "cell_type": "code",
   "execution_count": 32,
   "metadata": {},
   "outputs": [
    {
     "data": {
      "text/html": [
       "<div>\n",
       "<style scoped>\n",
       "    .dataframe tbody tr th:only-of-type {\n",
       "        vertical-align: middle;\n",
       "    }\n",
       "\n",
       "    .dataframe tbody tr th {\n",
       "        vertical-align: top;\n",
       "    }\n",
       "\n",
       "    .dataframe thead th {\n",
       "        text-align: right;\n",
       "    }\n",
       "</style>\n",
       "<table border=\"1\" class=\"dataframe\">\n",
       "  <thead>\n",
       "    <tr style=\"text-align: right;\">\n",
       "      <th></th>\n",
       "      <th>Price</th>\n",
       "    </tr>\n",
       "  </thead>\n",
       "  <tbody>\n",
       "    <tr>\n",
       "      <td>count</td>\n",
       "      <td>686.000000</td>\n",
       "    </tr>\n",
       "    <tr>\n",
       "      <td>mean</td>\n",
       "      <td>16820.581633</td>\n",
       "    </tr>\n",
       "    <tr>\n",
       "      <td>std</td>\n",
       "      <td>11969.474878</td>\n",
       "    </tr>\n",
       "    <tr>\n",
       "      <td>min</td>\n",
       "      <td>1790.000000</td>\n",
       "    </tr>\n",
       "    <tr>\n",
       "      <td>25%</td>\n",
       "      <td>7990.000000</td>\n",
       "    </tr>\n",
       "    <tr>\n",
       "      <td>50%</td>\n",
       "      <td>13895.000000</td>\n",
       "    </tr>\n",
       "    <tr>\n",
       "      <td>75%</td>\n",
       "      <td>21995.000000</td>\n",
       "    </tr>\n",
       "    <tr>\n",
       "      <td>max</td>\n",
       "      <td>66950.000000</td>\n",
       "    </tr>\n",
       "  </tbody>\n",
       "</table>\n",
       "</div>"
      ],
      "text/plain": [
       "              Price\n",
       "count    686.000000\n",
       "mean   16820.581633\n",
       "std    11969.474878\n",
       "min     1790.000000\n",
       "25%     7990.000000\n",
       "50%    13895.000000\n",
       "75%    21995.000000\n",
       "max    66950.000000"
      ]
     },
     "execution_count": 32,
     "metadata": {},
     "output_type": "execute_result"
    }
   ],
   "source": [
    "import pandas as pd\n",
    "\n",
    "results_df = pd.DataFrame({'Title': post_titles,\n",
    "                          'Price': post_prices,\n",
    "                          'Link': post_links})\n",
    "\n",
    "# results_df.describe()"
   ]
  },
  {
   "cell_type": "code",
   "execution_count": 35,
   "metadata": {},
   "outputs": [
    {
     "data": {
      "text/plain": [
       "98"
      ]
     },
     "execution_count": 35,
     "metadata": {},
     "output_type": "execute_result"
    }
   ],
   "source": [
    "# clean the dataset a bit\n",
    "# drop duplicates\n",
    "\n",
    "results_df = results_df.drop_duplicates(subset='Link')\n",
    "len(results_df)"
   ]
  },
  {
   "cell_type": "code",
   "execution_count": 37,
   "metadata": {},
   "outputs": [
    {
     "data": {
      "text/html": [
       "<div>\n",
       "<style scoped>\n",
       "    .dataframe tbody tr th:only-of-type {\n",
       "        vertical-align: middle;\n",
       "    }\n",
       "\n",
       "    .dataframe tbody tr th {\n",
       "        vertical-align: top;\n",
       "    }\n",
       "\n",
       "    .dataframe thead th {\n",
       "        text-align: right;\n",
       "    }\n",
       "</style>\n",
       "<table border=\"1\" class=\"dataframe\">\n",
       "  <thead>\n",
       "    <tr style=\"text-align: right;\">\n",
       "      <th></th>\n",
       "      <th>Price</th>\n",
       "    </tr>\n",
       "  </thead>\n",
       "  <tbody>\n",
       "    <tr>\n",
       "      <td>count</td>\n",
       "      <td>98.000000</td>\n",
       "    </tr>\n",
       "    <tr>\n",
       "      <td>mean</td>\n",
       "      <td>16820.581633</td>\n",
       "    </tr>\n",
       "    <tr>\n",
       "      <td>std</td>\n",
       "      <td>12022.242841</td>\n",
       "    </tr>\n",
       "    <tr>\n",
       "      <td>min</td>\n",
       "      <td>1790.000000</td>\n",
       "    </tr>\n",
       "    <tr>\n",
       "      <td>25%</td>\n",
       "      <td>7991.250000</td>\n",
       "    </tr>\n",
       "    <tr>\n",
       "      <td>50%</td>\n",
       "      <td>13895.000000</td>\n",
       "    </tr>\n",
       "    <tr>\n",
       "      <td>75%</td>\n",
       "      <td>21945.000000</td>\n",
       "    </tr>\n",
       "    <tr>\n",
       "      <td>max</td>\n",
       "      <td>66950.000000</td>\n",
       "    </tr>\n",
       "  </tbody>\n",
       "</table>\n",
       "</div>"
      ],
      "text/plain": [
       "              Price\n",
       "count     98.000000\n",
       "mean   16820.581633\n",
       "std    12022.242841\n",
       "min     1790.000000\n",
       "25%     7991.250000\n",
       "50%    13895.000000\n",
       "75%    21945.000000\n",
       "max    66950.000000"
      ]
     },
     "execution_count": 37,
     "metadata": {},
     "output_type": "execute_result"
    }
   ],
   "source": [
    "results_df.describe()"
   ]
  },
  {
   "cell_type": "code",
   "execution_count": 40,
   "metadata": {},
   "outputs": [
    {
     "data": {
      "image/png": "[encoded data removed]",
      "text/plain": [
       "<Figure size 432x288 with 1 Axes>"
      ]
     },
     "metadata": {
      "needs_background": "light"
     },
     "output_type": "display_data"
    }
   ],
   "source": [
    "# Visualize price distribution\n",
    "hist = results_df.hist(bins=15)"
   ]
  }
 ],
 "metadata": {
  "kernelspec": {
   "display_name": "myenv",
   "language": "python",
   "name": "myenv"
  },
  "language_info": {
   "codemirror_mode": {
    "name": "ipython",
    "version": 3
   },
   "file_extension": ".py",
   "mimetype": "text/x-python",
   "name": "python",
   "nbconvert_exporter": "python",
   "pygments_lexer": "ipython3",
   "version": "3.7.4"
  }
 },
 "nbformat": 4,
 "nbformat_minor": 2
}
